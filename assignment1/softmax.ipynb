{
 "cells": [
  {
   "cell_type": "markdown",
   "metadata": {
    "tags": [
     "pdf-title"
    ]
   },
   "source": [
    "# Softmax exercise\n",
    "\n",
    "*Complete and hand in this completed worksheet (including its outputs and any supporting code outside of the worksheet) with your assignment submission. For more details see the [assignments page](http://vision.stanford.edu/teaching/cs231n/assignments.html) on the course website.*\n",
    "\n",
    "This exercise is analogous to the SVM exercise. You will:\n",
    "\n",
    "- implement a fully-vectorized **loss function** for the Softmax classifier\n",
    "- implement the fully-vectorized expression for its **analytic gradient**\n",
    "- **check your implementation** with numerical gradient\n",
    "- use a validation set to **tune the learning rate and regularization** strength\n",
    "- **optimize** the loss function with **SGD**\n",
    "- **visualize** the final learned weights\n"
   ]
  },
  {
   "cell_type": "code",
   "execution_count": 2,
   "metadata": {
    "collapsed": true,
    "tags": [
     "pdf-ignore"
    ]
   },
   "outputs": [],
   "source": [
    "import random\n",
    "import numpy as np\n",
    "from cs231n.data_utils import load_CIFAR10\n",
    "import matplotlib.pyplot as plt\n",
    "\n",
    "%matplotlib inline\n",
    "plt.rcParams['figure.figsize'] = (10.0, 8.0) # set default size of plots\n",
    "plt.rcParams['image.interpolation'] = 'nearest'\n",
    "plt.rcParams['image.cmap'] = 'gray'\n",
    "\n",
    "# for auto-reloading extenrnal modules\n",
    "# see http://stackoverflow.com/questions/1907993/autoreload-of-modules-in-ipython\n",
    "%load_ext autoreload\n",
    "%autoreload 2"
   ]
  },
  {
   "cell_type": "code",
   "execution_count": 3,
   "metadata": {
    "tags": [
     "pdf-ignore"
    ]
   },
   "outputs": [
    {
     "name": "stdout",
     "output_type": "stream",
     "text": [
      "Train data shape:  (49000, 3073)\n",
      "Train labels shape:  (49000,)\n",
      "Validation data shape:  (1000, 3073)\n",
      "Validation labels shape:  (1000,)\n",
      "Test data shape:  (1000, 3073)\n",
      "Test labels shape:  (1000,)\n",
      "dev data shape:  (500, 3073)\n",
      "dev labels shape:  (500,)\n"
     ]
    }
   ],
   "source": [
    "def get_CIFAR10_data(num_training=49000, num_validation=1000, num_test=1000, num_dev=500):\n",
    "    \"\"\"\n",
    "    Load the CIFAR-10 dataset from disk and perform preprocessing to prepare\n",
    "    it for the linear classifier. These are the same steps as we used for the\n",
    "    SVM, but condensed to a single function.  \n",
    "    \"\"\"\n",
    "    # Load the raw CIFAR-10 data\n",
    "    cifar10_dir = 'cs231n/datasets/cifar-10-batches-py'\n",
    "    \n",
    "    # Cleaning up variables to prevent loading data multiple times (which may cause memory issue)\n",
    "    try:\n",
    "       del X_train, y_train\n",
    "       del X_test, y_test\n",
    "       print('Clear previously loaded data.')\n",
    "    except:\n",
    "       pass\n",
    "\n",
    "    X_train, y_train, X_test, y_test = load_CIFAR10(cifar10_dir)\n",
    "    \n",
    "    # subsample the data\n",
    "    mask = list(range(num_training, num_training + num_validation))\n",
    "    X_val = X_train[mask]\n",
    "    y_val = y_train[mask]\n",
    "    mask = list(range(num_training))\n",
    "    X_train = X_train[mask]\n",
    "    y_train = y_train[mask]\n",
    "    mask = list(range(num_test))\n",
    "    X_test = X_test[mask]\n",
    "    y_test = y_test[mask]\n",
    "    mask = np.random.choice(num_training, num_dev, replace=False)\n",
    "    X_dev = X_train[mask]\n",
    "    y_dev = y_train[mask]\n",
    "    \n",
    "    # Preprocessing: reshape the image data into rows\n",
    "    X_train = np.reshape(X_train, (X_train.shape[0], -1))\n",
    "    X_val = np.reshape(X_val, (X_val.shape[0], -1))\n",
    "    X_test = np.reshape(X_test, (X_test.shape[0], -1))\n",
    "    X_dev = np.reshape(X_dev, (X_dev.shape[0], -1))\n",
    "    \n",
    "    # Normalize the data: subtract the mean image\n",
    "    mean_image = np.mean(X_train, axis = 0)\n",
    "    X_train -= mean_image\n",
    "    X_val -= mean_image\n",
    "    X_test -= mean_image\n",
    "    X_dev -= mean_image\n",
    "    \n",
    "    # add bias dimension and transform into columns\n",
    "    X_train = np.hstack([X_train, np.ones((X_train.shape[0], 1))])\n",
    "    X_val = np.hstack([X_val, np.ones((X_val.shape[0], 1))])\n",
    "    X_test = np.hstack([X_test, np.ones((X_test.shape[0], 1))])\n",
    "    X_dev = np.hstack([X_dev, np.ones((X_dev.shape[0], 1))])\n",
    "    \n",
    "    return X_train, y_train, X_val, y_val, X_test, y_test, X_dev, y_dev\n",
    "\n",
    "\n",
    "# Invoke the above function to get our data.\n",
    "X_train, y_train, X_val, y_val, X_test, y_test, X_dev, y_dev = get_CIFAR10_data()\n",
    "print('Train data shape: ', X_train.shape)\n",
    "print('Train labels shape: ', y_train.shape)\n",
    "print('Validation data shape: ', X_val.shape)\n",
    "print('Validation labels shape: ', y_val.shape)\n",
    "print('Test data shape: ', X_test.shape)\n",
    "print('Test labels shape: ', y_test.shape)\n",
    "print('dev data shape: ', X_dev.shape)\n",
    "print('dev labels shape: ', y_dev.shape)"
   ]
  },
  {
   "cell_type": "markdown",
   "metadata": {},
   "source": [
    "## Softmax Classifier\n",
    "\n",
    "Your code for this section will all be written inside **cs231n/classifiers/softmax.py**. \n"
   ]
  },
  {
   "cell_type": "code",
   "execution_count": 12,
   "metadata": {},
   "outputs": [
    {
     "name": "stdout",
     "output_type": "stream",
     "text": [
      "loss: 2.306036\n",
      "sanity check: 2.302585\n"
     ]
    }
   ],
   "source": [
    "# First implement the naive softmax loss function with nested loops.\n",
    "# Open the file cs231n/classifiers/softmax.py and implement the\n",
    "# softmax_loss_naive function.\n",
    "\n",
    "from cs231n.classifiers.softmax import softmax_loss_naive\n",
    "import time\n",
    "\n",
    "# Generate a random softmax weight matrix and use it to compute the loss.\n",
    "W = np.random.randn(3073, 10) * 0.0001\n",
    "loss, grad = softmax_loss_naive(W, X_dev, y_dev, 0.0)\n",
    "\n",
    "# As a rough sanity check, our loss should be something close to -log(0.1).\n",
    "print('loss: %f' % loss)\n",
    "print('sanity check: %f' % (-np.log(0.1)))"
   ]
  },
  {
   "cell_type": "markdown",
   "metadata": {
    "tags": [
     "pdf-inline"
    ]
   },
   "source": [
    "**Inline Question 1**\n",
    "\n",
    "Why do we expect our loss to be close to -log(0.1)? Explain briefly.**\n",
    "\n",
    "$\\color{blue}{\\textit Your Answer:}$ \n",
    "\n",
    "As the weight matrix is initialized randomly (weights sampled from a normal distribution), the class scores $s_i$ should be on average almost equal.\n",
    "\n",
    "Then the class probability is given by: $\\hat{y}_i = \\frac{e^{s_i}}{\\sum_j e^{s_j}}$. On average, because the scores are almost equal: $\\hat{y_i} \\approx \\frac{1}{C}$, where $C$ is the number of classes.\n",
    "\n",
    "For one example $k$, the loss is: $L_k = -\\log(\\hat{y}_{y^{(k)}})$.\n",
    "Finally the average loss over the dataset should be close to $-log(\\frac{1}{C})$.\n",
    "\n",
    "We have $C = 10$ classes in CIFAR-10. So for our dataset, the initial loss should be close to $-\\log(0.1)$\n"
   ]
  },
  {
   "cell_type": "code",
   "execution_count": 13,
   "metadata": {},
   "outputs": [
    {
     "name": "stdout",
     "output_type": "stream",
     "text": [
      "numerical: 1.315858 analytic: 1.315858, relative error: 1.954784e-08\n",
      "numerical: -1.706842 analytic: -1.706842, relative error: 1.251279e-08\n",
      "numerical: 1.053811 analytic: 1.053811, relative error: 5.042488e-08\n",
      "numerical: -0.319683 analytic: -0.319683, relative error: 2.806390e-07\n",
      "numerical: 2.311709 analytic: 2.311709, relative error: 1.316482e-08\n",
      "numerical: -3.122095 analytic: -3.122095, relative error: 2.355715e-09\n",
      "numerical: 2.008634 analytic: 2.008634, relative error: 1.482697e-08\n",
      "numerical: 2.435173 analytic: 2.435173, relative error: 8.920717e-10\n",
      "numerical: 1.001855 analytic: 1.001855, relative error: 4.276771e-08\n",
      "numerical: -1.244615 analytic: -1.244615, relative error: 5.571327e-08\n",
      "numerical: 2.719279 analytic: 2.719279, relative error: 3.880593e-09\n",
      "numerical: 3.264280 analytic: 3.264280, relative error: 1.554713e-08\n",
      "numerical: -1.963044 analytic: -1.963044, relative error: 1.933788e-09\n",
      "numerical: 1.352723 analytic: 1.352723, relative error: 8.961328e-09\n",
      "numerical: -0.739820 analytic: -0.739820, relative error: 7.161561e-08\n",
      "numerical: -1.046324 analytic: -1.046325, relative error: 6.027299e-08\n",
      "numerical: -0.266525 analytic: -0.266525, relative error: 1.071658e-07\n",
      "numerical: -1.005867 analytic: -1.005868, relative error: 3.558664e-08\n",
      "numerical: -3.083136 analytic: -3.083136, relative error: 2.749061e-08\n",
      "numerical: -1.355716 analytic: -1.355717, relative error: 5.455218e-08\n"
     ]
    }
   ],
   "source": [
    "# Complete the implementation of softmax_loss_naive and implement a (naive)\n",
    "# version of the gradient that uses nested loops.\n",
    "loss, grad = softmax_loss_naive(W, X_dev, y_dev, 0.0)\n",
    "\n",
    "# As we did for the SVM, use numeric gradient checking as a debugging tool.\n",
    "# The numeric gradient should be close to the analytic gradient.\n",
    "from cs231n.gradient_check import grad_check_sparse\n",
    "f = lambda w: softmax_loss_naive(w, X_dev, y_dev, 0.0)[0]\n",
    "grad_numerical = grad_check_sparse(f, W, grad, 10)\n",
    "\n",
    "# similar to SVM case, do another gradient check with regularization\n",
    "loss, grad = softmax_loss_naive(W, X_dev, y_dev, 5e1)\n",
    "f = lambda w: softmax_loss_naive(w, X_dev, y_dev, 5e1)[0]\n",
    "grad_numerical = grad_check_sparse(f, W, grad, 10)"
   ]
  },
  {
   "cell_type": "code",
   "execution_count": 15,
   "metadata": {},
   "outputs": [
    {
     "name": "stdout",
     "output_type": "stream",
     "text": [
      "naive loss: 2.306036e+00 computed in 0.185505s\n",
      "vectorized loss: 2.306036e+00 computed in 0.008006s\n",
      "Loss difference: 0.000000\n",
      "Gradient difference: 0.000000\n"
     ]
    }
   ],
   "source": [
    "# Now that we have a naive implementation of the softmax loss function and its gradient,\n",
    "# implement a vectorized version in softmax_loss_vectorized.\n",
    "# The two versions should compute the same results, but the vectorized version should be\n",
    "# much faster.\n",
    "tic = time.time()\n",
    "loss_naive, grad_naive = softmax_loss_naive(W, X_dev, y_dev, 0.000005)\n",
    "toc = time.time()\n",
    "print('naive loss: %e computed in %fs' % (loss_naive, toc - tic))\n",
    "\n",
    "from cs231n.classifiers.softmax import softmax_loss_vectorized\n",
    "tic = time.time()\n",
    "loss_vectorized, grad_vectorized = softmax_loss_vectorized(W, X_dev, y_dev, 0.000005)\n",
    "toc = time.time()\n",
    "print('vectorized loss: %e computed in %fs' % (loss_vectorized, toc - tic))\n",
    "\n",
    "# As we did for the SVM, we use the Frobenius norm to compare the two versions\n",
    "# of the gradient.\n",
    "grad_difference = np.linalg.norm(grad_naive - grad_vectorized, ord='fro')\n",
    "print('Loss difference: %f' % np.abs(loss_naive - loss_vectorized))\n",
    "print('Gradient difference: %f' % grad_difference)"
   ]
  },
  {
   "cell_type": "code",
   "execution_count": 7,
   "metadata": {
    "tags": [
     "code"
    ]
   },
   "outputs": [
    {
     "name": "stderr",
     "output_type": "stream",
     "text": [
      "D:\\Documents\\Ecole\\Informatique\\AI\\CS231N_cnn_visual-recognition\\homeworks\\hw1\\code\\cs231n\\classifiers\\softmax.py:89: RuntimeWarning: overflow encountered in exp\n",
      "  exp_Z = np.exp(Z)\n",
      "D:\\Documents\\Ecole\\Informatique\\AI\\CS231N_cnn_visual-recognition\\homeworks\\hw1\\code\\cs231n\\classifiers\\softmax.py:90: RuntimeWarning: invalid value encountered in true_divide\n",
      "  Y_hat = exp_Z / np.sum(exp_Z, axis=1, keepdims = True)\n",
      "D:\\Documents\\Ecole\\Informatique\\AI\\CS231N_cnn_visual-recognition\\homeworks\\hw1\\code\\cs231n\\classifiers\\softmax.py:96: RuntimeWarning: overflow encountered in exp\n",
      "  loss = -np.mean(Z[np.arange(N), y]) + np.mean(np.log(np.sum(np.exp(Z), axis=1)))\n"
     ]
    },
    {
     "name": "stdout",
     "output_type": "stream",
     "text": [
      "lr 1.000000e-08 reg 1.000000e-02 train accuracy: 0.171694 val accuracy: 0.188000\n",
      "lr 1.000000e-08 reg 1.000000e-01 train accuracy: 0.157061 val accuracy: 0.164000\n",
      "lr 1.000000e-08 reg 1.000000e+00 train accuracy: 0.159776 val accuracy: 0.191000\n",
      "lr 1.000000e-08 reg 1.000000e+01 train accuracy: 0.155571 val accuracy: 0.171000\n",
      "lr 1.000000e-08 reg 1.000000e+02 train accuracy: 0.165592 val accuracy: 0.150000\n",
      "lr 1.000000e-08 reg 1.000000e+03 train accuracy: 0.150265 val accuracy: 0.169000\n",
      "lr 1.000000e-08 reg 1.000000e+04 train accuracy: 0.166265 val accuracy: 0.172000\n",
      "lr 1.000000e-08 reg 1.000000e+05 train accuracy: 0.256551 val accuracy: 0.284000\n",
      "lr 1.000000e-07 reg 1.000000e-02 train accuracy: 0.243143 val accuracy: 0.243000\n",
      "lr 1.000000e-07 reg 1.000000e-01 train accuracy: 0.247122 val accuracy: 0.249000\n",
      "lr 1.000000e-07 reg 1.000000e+00 train accuracy: 0.249633 val accuracy: 0.232000\n",
      "lr 1.000000e-07 reg 1.000000e+01 train accuracy: 0.246673 val accuracy: 0.254000\n",
      "lr 1.000000e-07 reg 1.000000e+02 train accuracy: 0.255673 val accuracy: 0.271000\n",
      "lr 1.000000e-07 reg 1.000000e+03 train accuracy: 0.267449 val accuracy: 0.264000\n",
      "lr 1.000000e-07 reg 1.000000e+04 train accuracy: 0.352857 val accuracy: 0.371000\n",
      "lr 1.000000e-07 reg 1.000000e+05 train accuracy: 0.279388 val accuracy: 0.292000\n",
      "lr 1.000000e-06 reg 1.000000e-02 train accuracy: 0.349265 val accuracy: 0.352000\n",
      "lr 1.000000e-06 reg 1.000000e-01 train accuracy: 0.349918 val accuracy: 0.319000\n",
      "lr 1.000000e-06 reg 1.000000e+00 train accuracy: 0.350469 val accuracy: 0.337000\n",
      "lr 1.000000e-06 reg 1.000000e+01 train accuracy: 0.347367 val accuracy: 0.334000\n",
      "lr 1.000000e-06 reg 1.000000e+02 train accuracy: 0.366041 val accuracy: 0.373000\n",
      "lr 1.000000e-06 reg 1.000000e+03 train accuracy: 0.400408 val accuracy: 0.400000\n",
      "lr 1.000000e-06 reg 1.000000e+04 train accuracy: 0.352388 val accuracy: 0.364000\n",
      "lr 1.000000e-06 reg 1.000000e+05 train accuracy: 0.287837 val accuracy: 0.308000\n",
      "lr 1.000000e-05 reg 1.000000e-02 train accuracy: 0.351857 val accuracy: 0.325000\n",
      "lr 1.000000e-05 reg 1.000000e-01 train accuracy: 0.323714 val accuracy: 0.316000\n",
      "lr 1.000000e-05 reg 1.000000e+00 train accuracy: 0.321000 val accuracy: 0.313000\n",
      "lr 1.000000e-05 reg 1.000000e+01 train accuracy: 0.347000 val accuracy: 0.318000\n",
      "lr 1.000000e-05 reg 1.000000e+02 train accuracy: 0.293837 val accuracy: 0.291000\n",
      "lr 1.000000e-05 reg 1.000000e+03 train accuracy: 0.254367 val accuracy: 0.266000\n",
      "lr 1.000000e-05 reg 1.000000e+04 train accuracy: 0.182143 val accuracy: 0.200000\n",
      "lr 1.000000e-05 reg 1.000000e+05 train accuracy: 0.100265 val accuracy: 0.087000\n",
      "lr 1.000000e-04 reg 1.000000e-02 train accuracy: 0.281102 val accuracy: 0.276000\n",
      "lr 1.000000e-04 reg 1.000000e-01 train accuracy: 0.247204 val accuracy: 0.237000\n",
      "lr 1.000000e-04 reg 1.000000e+00 train accuracy: 0.289163 val accuracy: 0.263000\n",
      "lr 1.000000e-04 reg 1.000000e+01 train accuracy: 0.278429 val accuracy: 0.278000\n",
      "lr 1.000000e-04 reg 1.000000e+02 train accuracy: 0.241571 val accuracy: 0.271000\n",
      "lr 1.000000e-04 reg 1.000000e+03 train accuracy: 0.184653 val accuracy: 0.193000\n",
      "lr 1.000000e-04 reg 1.000000e+04 train accuracy: 0.100265 val accuracy: 0.087000\n",
      "lr 1.000000e-04 reg 1.000000e+05 train accuracy: 0.100265 val accuracy: 0.087000\n",
      "best validation accuracy achieved during cross-validation: 0.400000\n"
     ]
    }
   ],
   "source": [
    "# Use the validation set to tune hyperparameters (regularization strength and\n",
    "# learning rate). You should experiment with different ranges for the learning\n",
    "# rates and regularization strengths; if you are careful you should be able to\n",
    "# get a classification accuracy of over 0.35 on the validation set.\n",
    "from cs231n.classifiers import Softmax\n",
    "results = {}\n",
    "best_val = -1\n",
    "best_softmax = None\n",
    "learning_rates = [1e-7, 5e-7]\n",
    "regularization_strengths = [2.5e4, 5e4]\n",
    "\n",
    "################################################################################\n",
    "# TODO:                                                                        #\n",
    "# Use the validation set to set the learning rate and regularization strength. #\n",
    "# This should be identical to the validation that you did for the SVM; save    #\n",
    "# the best trained softmax classifer in best_softmax.                          #\n",
    "################################################################################\n",
    "# *****START OF YOUR CODE (DO NOT DELETE/MODIFY THIS LINE)*****\n",
    "\n",
    "learning_rates = 10**np.linspace(-8, -4, 5)\n",
    "regularization_strengths = 10**np.linspace(-2, 5, 8)\n",
    "\n",
    "for learning_rate in learning_rates:\n",
    "    for reg in regularization_strengths:\n",
    "        # new SVM classifier\n",
    "        softmax = Softmax()\n",
    "        # train the SVM classifier\n",
    "        softmax.train(X_train, y_train, learning_rate=learning_rate, reg=reg, num_iters=1500)\n",
    "        # compute the train and validation accuracy\n",
    "        y_train_pred = softmax.predict(X_train)\n",
    "        training_accuracy = np.mean(y_train == y_train_pred)\n",
    "        y_val_pred = softmax.predict(X_val)\n",
    "        validation_accuracy = np.mean(y_val == y_val_pred)\n",
    "        # store the results\n",
    "        results[(learning_rate, reg)] = (training_accuracy, validation_accuracy)\n",
    "        \n",
    "        # update the best model\n",
    "        if best_val < validation_accuracy:\n",
    "            best_val = validation_accuracy\n",
    "            best_softmax = softmax\n",
    "\n",
    "# *****END OF YOUR CODE (DO NOT DELETE/MODIFY THIS LINE)*****\n",
    "    \n",
    "# Print out results.\n",
    "for lr, reg in sorted(results):\n",
    "    train_accuracy, val_accuracy = results[(lr, reg)]\n",
    "    print('lr %e reg %e train accuracy: %f val accuracy: %f' % (\n",
    "                lr, reg, train_accuracy, val_accuracy))\n",
    "    \n",
    "print('best validation accuracy achieved during cross-validation: %f' % best_val)"
   ]
  },
  {
   "cell_type": "code",
   "execution_count": 8,
   "metadata": {},
   "outputs": [
    {
     "name": "stdout",
     "output_type": "stream",
     "text": [
      "softmax on raw pixels final test set accuracy: 0.380000\n"
     ]
    }
   ],
   "source": [
    "# evaluate on test set\n",
    "# Evaluate the best softmax on test set\n",
    "y_test_pred = best_softmax.predict(X_test)\n",
    "test_accuracy = np.mean(y_test == y_test_pred)\n",
    "print('softmax on raw pixels final test set accuracy: %f' % (test_accuracy, ))"
   ]
  },
  {
   "cell_type": "markdown",
   "metadata": {
    "tags": [
     "pdf-inline"
    ]
   },
   "source": [
    "**Inline Question 2** - *True or False*\n",
    "\n",
    "Suppose the overall training loss is defined as the sum of the per-datapoint loss over all training examples. It is possible to add a new datapoint to a training set that would leave the SVM loss unchanged, but this is not the case with the Softmax classifier loss.\n",
    "\n",
    "$\\color{blue}{\\textit Your Answer:}$ True\n",
    "\n",
    "$\\color{blue}{\\textit Your Explanation:}$ \n",
    "\n",
    "Let's take a new datapoint $x$ which is correctly classified by the Multiclass SVM classifier, with classes' score differences greater than 1 ie $1 - (s_y - s_j) < 0$.\n",
    "\n",
    "Its hinge loss will be $L = max(0, 1 - (s_y - s_j)) = 0$.\n",
    "Thus the total SVM loss will be unchanged.\n",
    "\n",
    "However this is not the case for the Softmax classifier loss, even if the example is correctly classified. Indeed the cross-entropy loss is always greater than 0, and can only tend toward 0 as the example correct class score tends toward infinity.\n",
    "\n",
    "Proof: $\\hat{y}_i = \\frac{e^{s_i}}{\\sum_j e^{s_j}} < 1$ because $\\exp(z) > 0$.\n",
    "Then $L = -\\log(\\hat{y}_y) < 0$ as log is a strictly increasing function.\n",
    "\n"
   ]
  },
  {
   "cell_type": "code",
   "execution_count": 9,
   "metadata": {},
   "outputs": [
    {
     "data": {
      "image/png": "[encoded data removed]",
      "text/plain": [
       "<Figure size 720x576 with 10 Axes>"
      ]
     },
     "metadata": {},
     "output_type": "display_data"
    }
   ],
   "source": [
    "# Visualize the learned weights for each class\n",
    "w = best_softmax.W[:-1,:] # strip out the bias\n",
    "w = w.reshape(32, 32, 3, 10)\n",
    "\n",
    "w_min, w_max = np.min(w), np.max(w)\n",
    "\n",
    "classes = ['plane', 'car', 'bird', 'cat', 'deer', 'dog', 'frog', 'horse', 'ship', 'truck']\n",
    "for i in range(10):\n",
    "    plt.subplot(2, 5, i + 1)\n",
    "    \n",
    "    # Rescale the weights to be between 0 and 255\n",
    "    wimg = 255.0 * (w[:, :, :, i].squeeze() - w_min) / (w_max - w_min)\n",
    "    plt.imshow(wimg.astype('uint8'))\n",
    "    plt.axis('off')\n",
    "    plt.title(classes[i])"
   ]
  },
  {
   "cell_type": "code",
   "execution_count": null,
   "metadata": {
    "collapsed": true
   },
   "outputs": [],
   "source": []
  }
 ],
 "metadata": {
  "kernelspec": {
   "display_name": "Python 3",
   "language": "python",
   "name": "python3"
  },
  "language_info": {
   "codemirror_mode": {
    "name": "ipython",
    "version": 3
   },
   "file_extension": ".py",
   "mimetype": "text/x-python",
   "name": "python",
   "nbconvert_exporter": "python",
   "pygments_lexer": "ipython3",
   "version": "3.6.3"
  }
 },
 "nbformat": 4,
 "nbformat_minor": 1
}
